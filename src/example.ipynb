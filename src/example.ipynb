{
 "cells": [
  {
   "attachments": {},
   "cell_type": "markdown",
   "metadata": {},
   "source": [
    "## Prepare example\n",
    "[Example provided by Evidently](https://github.com/evidentlyai/evidently/blob/main/examples/sample_notebooks/evidently_test_presets.ipynb)"
   ]
  },
  {
   "cell_type": "code",
   "execution_count": 26,
   "metadata": {},
   "outputs": [
    {
     "name": "stdout",
     "output_type": "stream",
     "text": [
      "Alert Detected: True\n"
     ]
    }
   ],
   "source": [
    "import numpy as np\n",
    "from evidently.test_preset import DataDriftTestPreset\n",
    "from evidently.test_suite import TestSuite\n",
    "from sklearn import datasets\n",
    "\n",
    "\n",
    "# Dataset for Data Quality and Integrity\n",
    "adult_data = datasets.fetch_openml(\n",
    "    name=\"adult\", version=2, as_frame=\"auto\", parser=\"auto\"\n",
    ")\n",
    "adult = adult_data.frame\n",
    "\n",
    "adult_ref = adult[~adult.education.isin([\"Some-college\", \"HS-grad\", \"Bachelors\"])]\n",
    "adult_cur = adult[adult.education.isin([\"Some-college\", \"HS-grad\", \"Bachelors\"])]\n",
    "\n",
    "adult_cur.iloc[:2000, 3:5] = np.nan\n",
    "\n",
    "# Run Evidently Tests\n",
    "data_drift = TestSuite(\n",
    "    tests=[\n",
    "        DataDriftTestPreset(stattest=\"psi\"),\n",
    "    ]\n",
    ")\n",
    "\n",
    "data_drift.run(reference_data=adult_ref, current_data=adult_cur)"
   ]
  },
  {
   "cell_type": "code",
   "execution_count": 27,
   "metadata": {},
   "outputs": [],
   "source": [
    "# Save the report as HTML\n",
    "from tools.helper_functions import get_evidently_html\n",
    "\n",
    "html, html_bytes = get_evidently_html(data_drift)"
   ]
  },
  {
   "attachments": {},
   "cell_type": "markdown",
   "metadata": {},
   "source": [
    "## Is alert detected?"
   ]
  },
  {
   "cell_type": "code",
   "execution_count": 28,
   "metadata": {},
   "outputs": [
    {
     "name": "stdout",
     "output_type": "stream",
     "text": [
      "Alert Detected: True\n"
     ]
    }
   ],
   "source": [
    "test_summary = data_drift.as_dict()\n",
    "other_tests_summary = []\n",
    "\n",
    "failed_tests = []\n",
    "for test in test_summary[\"tests\"]:\n",
    "    if test[\"status\"].lower() == \"fail\":\n",
    "        failed_tests.append(test)\n",
    "\n",
    "is_alert = any([failed_tests, other_tests_summary])\n",
    "print(f\"Alert Detected: {is_alert}\")"
   ]
  },
  {
   "attachments": {},
   "cell_type": "markdown",
   "metadata": {},
   "source": [
    "## Setup generic email details"
   ]
  },
  {
   "cell_type": "code",
   "execution_count": null,
   "metadata": {},
   "outputs": [],
   "source": [
    "RECIPIENT_LIST = [\"your.email@here.com\"]\n",
    "PROJECT_NAME = \"Example Adult Education\"\n",
    "LINK_URL = \"www.your-url.com\""
   ]
  },
  {
   "attachments": {},
   "cell_type": "markdown",
   "metadata": {},
   "source": [
    "## Send basic email"
   ]
  },
  {
   "cell_type": "code",
   "execution_count": null,
   "metadata": {},
   "outputs": [],
   "source": [
    "# Note: uses ses.send_email function\n",
    "from tools.send_email_basic import send_email_basic\n",
    "\n",
    "\n",
    "if is_alert:\n",
    "    send_email_basic(project_name=PROJECT_NAME, link_url=LINK_URL, recipient_list=RECIPIENT_LIST,)"
   ]
  },
  {
   "attachments": {},
   "cell_type": "markdown",
   "metadata": {},
   "source": [
    "## Send email attachment"
   ]
  },
  {
   "cell_type": "code",
   "execution_count": null,
   "metadata": {},
   "outputs": [],
   "source": [
    "# Note: uses ses.send_raw_email function\n",
    "# Note2: attachments must be read as binary\n",
    "from tools.send_email_attachment import send_email_attachment, EmailAttachment\n",
    "\n",
    "\n",
    "# Prepare email attachment\n",
    "data_drift_report = EmailAttachment(file_name=\"data_drift.html\", content=html_bytes)\n",
    "attachment_list = [data_drift_report]\n",
    "\n",
    "if is_alert:\n",
    "    send_email_attachment(project_name=PROJECT_NAME, link_url=LINK_URL, recipient_list=RECIPIENT_LIST,\n",
    "                          attachment_list=attachment_list)"
   ]
  },
  {
   "attachments": {},
   "cell_type": "markdown",
   "metadata": {},
   "source": [
    "## Send nice formatted email (Template)"
   ]
  },
  {
   "cell_type": "code",
   "execution_count": null,
   "metadata": {},
   "outputs": [],
   "source": [
    "# Note: uses ses.send_email function\n",
    "from tools.send_email_formatted import send_email_formatted\n",
    "\n",
    "\n",
    "if is_alert:\n",
    "    send_email_formatted(project_name=PROJECT_NAME, link_url=LINK_URL, recipient_list=RECIPIENT_LIST)"
   ]
  }
 ],
 "metadata": {
  "kernelspec": {
   "display_name": ".venv",
   "language": "python",
   "name": "python3"
  },
  "language_info": {
   "codemirror_mode": {
    "name": "ipython",
    "version": 3
   },
   "file_extension": ".py",
   "mimetype": "text/x-python",
   "name": "python",
   "nbconvert_exporter": "python",
   "pygments_lexer": "ipython3",
   "version": "3.8.12"
  },
  "orig_nbformat": 4
 },
 "nbformat": 4,
 "nbformat_minor": 2
}
